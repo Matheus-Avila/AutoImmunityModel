{
 "cells": [
  {
   "cell_type": "code",
   "execution_count": 1,
   "id": "7047333b",
   "metadata": {},
   "outputs": [],
   "source": [
    "#Parameters\n",
    "difm = 0.015206\n",
    "mum = 60*24*3*10**-6\n",
    "cm = 0.1\n",
    "chi = 0.03\n",
    "barm = 350.0\n",
    "baro = 400.0\n",
    "rm = 60*24*6*10**-7"
   ]
  },
  {
   "cell_type": "code",
   "execution_count": 2,
   "id": "119ed2b2",
   "metadata": {},
   "outputs": [],
   "source": [
    "def initialConditionMicroglia(L, hx, xSize, microglia):\n",
    "    tot = 0\n",
    "    for k in range(xSize * xSize):\n",
    "        i = int(k/xSize)\n",
    "        j = k%xSize\n",
    "        if (i - int(xSize/2))**2 + (j - int(xSize/2))**2 < 5 / (hx**2):\n",
    "            microglia[i][j] = barm/3    \n",
    "            tot = tot + barm/3\n",
    "    print(tot)\n",
    "    return microglia"
   ]
  },
  {
   "cell_type": "code",
   "execution_count": 3,
   "id": "e9996eb1",
   "metadata": {},
   "outputs": [
    {
     "ename": "ValueError",
     "evalue": "One or more symbols (m) are missing. You may have forgotten to include them into the unknowns, parameters or substitution.",
     "output_type": "error",
     "traceback": [
      "\u001b[0;31m---------------------------------------------------------------------------\u001b[0m",
      "\u001b[0;31mValueError\u001b[0m                                Traceback (most recent call last)",
      "Cell \u001b[0;32mIn[3], line 6\u001b[0m\n\u001b[1;32m      4\u001b[0m \u001b[38;5;28;01mfrom\u001b[39;00m \u001b[38;5;21;01mscipy\u001b[39;00m\u001b[38;5;21;01m.\u001b[39;00m\u001b[38;5;21;01msignal\u001b[39;00m\u001b[38;5;21;01m.\u001b[39;00m\u001b[38;5;21;01mwindows\u001b[39;00m \u001b[38;5;28;01mimport\u001b[39;00m gaussian\n\u001b[1;32m      5\u001b[0m \u001b[38;5;28;01mfrom\u001b[39;00m \u001b[38;5;21;01mscipy\u001b[39;00m \u001b[38;5;28;01mimport\u001b[39;00m integrate\n\u001b[0;32m----> 6\u001b[0m model \u001b[38;5;241m=\u001b[39m \u001b[43mModel\u001b[49m\u001b[43m(\u001b[49m\u001b[43m[\u001b[49m\u001b[38;5;124;43m\"\u001b[39;49m\u001b[38;5;124;43mdifm*(dxxM + dyyM) + mum*M*(barm - M) - cm*M - chi*(dxO * dx(M/(barm + M)) + dyO * dy(M/(barm + M)) + dxxO * m/(barm+m))\u001b[39;49m\u001b[38;5;124;43m\"\u001b[39;49m\u001b[43m,\u001b[49m\n\u001b[1;32m      7\u001b[0m \u001b[43m               \u001b[49m\u001b[38;5;124;43m\"\u001b[39;49m\u001b[38;5;124;43mrm*(M*M/(barm + M))*(baro - O)\u001b[39;49m\u001b[38;5;124;43m\"\u001b[39;49m\u001b[43m]\u001b[49m\u001b[43m,\u001b[49m\n\u001b[1;32m      8\u001b[0m \u001b[43m               \u001b[49m\u001b[43m[\u001b[49m\u001b[38;5;124;43m\"\u001b[39;49m\u001b[38;5;124;43mM(x, y)\u001b[39;49m\u001b[38;5;124;43m\"\u001b[39;49m\u001b[43m,\u001b[49m\u001b[43m \u001b[49m\u001b[38;5;124;43m\"\u001b[39;49m\u001b[38;5;124;43mO(x, y)\u001b[39;49m\u001b[38;5;124;43m\"\u001b[39;49m\u001b[43m]\u001b[49m\u001b[43m,\u001b[49m\n\u001b[1;32m      9\u001b[0m \u001b[43m               \u001b[49m\u001b[43mparameters\u001b[49m\u001b[38;5;241;43m=\u001b[39;49m\u001b[43m[\u001b[49m\u001b[38;5;124;43m\"\u001b[39;49m\u001b[38;5;124;43mdifm\u001b[39;49m\u001b[38;5;124;43m\"\u001b[39;49m\u001b[43m,\u001b[49m\u001b[43m \u001b[49m\u001b[38;5;124;43m\"\u001b[39;49m\u001b[38;5;124;43mmum\u001b[39;49m\u001b[38;5;124;43m\"\u001b[39;49m\u001b[43m,\u001b[49m\u001b[43m \u001b[49m\u001b[38;5;124;43m\"\u001b[39;49m\u001b[38;5;124;43mcm\u001b[39;49m\u001b[38;5;124;43m\"\u001b[39;49m\u001b[43m,\u001b[49m\u001b[43m \u001b[49m\u001b[38;5;124;43m\"\u001b[39;49m\u001b[38;5;124;43mchi\u001b[39;49m\u001b[38;5;124;43m\"\u001b[39;49m\u001b[43m,\u001b[49m\u001b[43m \u001b[49m\u001b[38;5;124;43m\"\u001b[39;49m\u001b[38;5;124;43mbarm\u001b[39;49m\u001b[38;5;124;43m\"\u001b[39;49m\u001b[43m,\u001b[49m\u001b[43m \u001b[49m\u001b[38;5;124;43m\"\u001b[39;49m\u001b[38;5;124;43mbaro\u001b[39;49m\u001b[38;5;124;43m\"\u001b[39;49m\u001b[43m,\u001b[49m\u001b[43m \u001b[49m\u001b[38;5;124;43m\"\u001b[39;49m\u001b[38;5;124;43mrm\u001b[39;49m\u001b[38;5;124;43m\"\u001b[39;49m\u001b[43m]\u001b[49m\u001b[43m,\u001b[49m\n\u001b[1;32m     10\u001b[0m \u001b[43m               \u001b[49m\u001b[43mboundary_conditions\u001b[49m\u001b[38;5;241;43m=\u001b[39;49m\u001b[38;5;124;43m\"\u001b[39;49m\u001b[38;5;124;43mnoflux\u001b[39;49m\u001b[38;5;124;43m\"\u001b[39;49m\u001b[43m)\u001b[49m\n\u001b[1;32m     11\u001b[0m tmax \u001b[38;5;241m=\u001b[39m \u001b[38;5;241m28\u001b[39m\n\u001b[1;32m     12\u001b[0m dt \u001b[38;5;241m=\u001b[39m\u001b[38;5;241m0.1\u001b[39m\n",
      "File \u001b[0;32m~/.local/lib/python3.8/site-packages/skfdiff/model.py:164\u001b[0m, in \u001b[0;36mModel.__init__\u001b[0;34m(self, evolution_equations, unknowns, parameters, coordinates, boundary_conditions, subs, custom_functions, backend, backend_kwargs)\u001b[0m\n\u001b[1;32m    161\u001b[0m \u001b[38;5;28mself\u001b[39m\u001b[38;5;241m.\u001b[39msubs \u001b[38;5;241m=\u001b[39m deepcopy(subs)\n\u001b[1;32m    162\u001b[0m \u001b[38;5;28mself\u001b[39m\u001b[38;5;241m.\u001b[39mcustom_functions \u001b[38;5;241m=\u001b[39m deepcopy(custom_functions)\n\u001b[0;32m--> 164\u001b[0m \u001b[38;5;28mself\u001b[39m\u001b[38;5;241m.\u001b[39mpdesys \u001b[38;5;241m=\u001b[39m \u001b[43mPDESys\u001b[49m\u001b[43m(\u001b[49m\n\u001b[1;32m    165\u001b[0m \u001b[43m    \u001b[49m\u001b[43mevolution_equations\u001b[49m\u001b[38;5;241;43m=\u001b[39;49m\u001b[38;5;28;43mself\u001b[39;49m\u001b[38;5;241;43m.\u001b[39;49m\u001b[43mevolution_equations\u001b[49m\u001b[43m,\u001b[49m\n\u001b[1;32m    166\u001b[0m \u001b[43m    \u001b[49m\u001b[43munknowns\u001b[49m\u001b[38;5;241;43m=\u001b[39;49m\u001b[38;5;28;43mself\u001b[39;49m\u001b[38;5;241;43m.\u001b[39;49m\u001b[43munknowns\u001b[49m\u001b[43m,\u001b[49m\n\u001b[1;32m    167\u001b[0m \u001b[43m    \u001b[49m\u001b[43mcoordinates\u001b[49m\u001b[38;5;241;43m=\u001b[39;49m\u001b[38;5;28;43mself\u001b[39;49m\u001b[38;5;241;43m.\u001b[39;49m\u001b[43mcoordinates\u001b[49m\u001b[43m,\u001b[49m\n\u001b[1;32m    168\u001b[0m \u001b[43m    \u001b[49m\u001b[43mparameters\u001b[49m\u001b[38;5;241;43m=\u001b[39;49m\u001b[38;5;28;43mself\u001b[39;49m\u001b[38;5;241;43m.\u001b[39;49m\u001b[43mparameters\u001b[49m\u001b[43m,\u001b[49m\n\u001b[1;32m    169\u001b[0m \u001b[43m    \u001b[49m\u001b[43mboundary_conditions\u001b[49m\u001b[38;5;241;43m=\u001b[39;49m\u001b[38;5;28;43mself\u001b[39;49m\u001b[38;5;241;43m.\u001b[39;49m\u001b[43mboundary_conditions\u001b[49m\u001b[43m,\u001b[49m\n\u001b[1;32m    170\u001b[0m \u001b[43m    \u001b[49m\u001b[43msubs\u001b[49m\u001b[38;5;241;43m=\u001b[39;49m\u001b[38;5;28;43mself\u001b[39;49m\u001b[38;5;241;43m.\u001b[39;49m\u001b[43msubs\u001b[49m\u001b[43m,\u001b[49m\n\u001b[1;32m    171\u001b[0m \u001b[43m    \u001b[49m\u001b[43mcustom_functions\u001b[49m\u001b[38;5;241;43m=\u001b[39;49m\u001b[43mcustom_functions\u001b[49m\u001b[43m,\u001b[49m\n\u001b[1;32m    172\u001b[0m \u001b[43m\u001b[49m\u001b[43m)\u001b[49m\n\u001b[1;32m    174\u001b[0m \u001b[38;5;28mself\u001b[39m\u001b[38;5;241m.\u001b[39mgrid_builder \u001b[38;5;241m=\u001b[39m GridBuilder(\u001b[38;5;28mself\u001b[39m\u001b[38;5;241m.\u001b[39mpdesys)\n\u001b[1;32m    176\u001b[0m \u001b[38;5;28mself\u001b[39m\u001b[38;5;241m.\u001b[39mbackend \u001b[38;5;241m=\u001b[39m get_backend(backend)(\n\u001b[1;32m    177\u001b[0m     \u001b[38;5;28mself\u001b[39m\u001b[38;5;241m.\u001b[39mpdesys,\n\u001b[1;32m    178\u001b[0m     \u001b[38;5;28mself\u001b[39m\u001b[38;5;241m.\u001b[39mgrid_builder,\n\u001b[1;32m    179\u001b[0m     custom_functions\u001b[38;5;241m=\u001b[39mcustom_functions,\n\u001b[1;32m    180\u001b[0m     \u001b[38;5;241m*\u001b[39m\u001b[38;5;241m*\u001b[39mbackend_kwargs\n\u001b[1;32m    181\u001b[0m )\n",
      "File \u001b[0;32m<attrs generated init skfdiff.core.system.PDESys>:21\u001b[0m, in \u001b[0;36m__init__\u001b[0;34m(self, evolution_equations, unknowns, parameters, coordinates, boundary_conditions, subs, custom_functions)\u001b[0m\n\u001b[1;32m     19\u001b[0m \u001b[38;5;28;01melse\u001b[39;00m:\n\u001b[1;32m     20\u001b[0m     \u001b[38;5;28mself\u001b[39m\u001b[38;5;241m.\u001b[39mcustom_functions \u001b[38;5;241m=\u001b[39m __attr_factory_custom_functions()\n\u001b[0;32m---> 21\u001b[0m \u001b[38;5;28;43mself\u001b[39;49m\u001b[38;5;241;43m.\u001b[39;49m\u001b[43m__attrs_post_init__\u001b[49m\u001b[43m(\u001b[49m\u001b[43m)\u001b[49m\n",
      "File \u001b[0;32m~/.local/lib/python3.8/site-packages/skfdiff/core/system.py:798\u001b[0m, in \u001b[0;36mPDESys.__attrs_post_init__\u001b[0;34m(self)\u001b[0m\n\u001b[1;32m    796\u001b[0m logger\u001b[38;5;241m.\u001b[39minfo(\u001b[38;5;124m\"\u001b[39m\u001b[38;5;124mcoerce equations...\u001b[39m\u001b[38;5;124m\"\u001b[39m)\n\u001b[1;32m    797\u001b[0m \u001b[38;5;28mself\u001b[39m\u001b[38;5;241m.\u001b[39m_t \u001b[38;5;241m=\u001b[39m Symbol(\u001b[38;5;124m\"\u001b[39m\u001b[38;5;124mt\u001b[39m\u001b[38;5;124m\"\u001b[39m)\n\u001b[0;32m--> 798\u001b[0m \u001b[38;5;28;43mself\u001b[39;49m\u001b[38;5;241;43m.\u001b[39;49m\u001b[43m_coerce_equations\u001b[49m\u001b[43m(\u001b[49m\u001b[43m)\u001b[49m\n\u001b[1;32m    799\u001b[0m \u001b[38;5;28mself\u001b[39m\u001b[38;5;241m.\u001b[39m_get_shapes()\n\u001b[1;32m    800\u001b[0m logger\u001b[38;5;241m.\u001b[39minfo(\u001b[38;5;124m\"\u001b[39m\u001b[38;5;124mdone\u001b[39m\u001b[38;5;124m\"\u001b[39m)\n",
      "File \u001b[0;32m~/.local/lib/python3.8/site-packages/skfdiff/core/system.py:745\u001b[0m, in \u001b[0;36mPDESys._coerce_equations\u001b[0;34m(self)\u001b[0m\n\u001b[1;32m    744\u001b[0m \u001b[38;5;28;01mdef\u001b[39;00m \u001b[38;5;21m_coerce_equations\u001b[39m(\u001b[38;5;28mself\u001b[39m):\n\u001b[0;32m--> 745\u001b[0m     \u001b[38;5;28mself\u001b[39m\u001b[38;5;241m.\u001b[39mevolution_equations \u001b[38;5;241m=\u001b[39m [\n\u001b[1;32m    746\u001b[0m         PDEquation(\n\u001b[1;32m    747\u001b[0m             eq,\n\u001b[1;32m    748\u001b[0m             \u001b[38;5;28mself\u001b[39m\u001b[38;5;241m.\u001b[39munknowns,\n\u001b[1;32m    749\u001b[0m             \u001b[38;5;28mself\u001b[39m\u001b[38;5;241m.\u001b[39mparameters,\n\u001b[1;32m    750\u001b[0m             subs\u001b[38;5;241m=\u001b[39m\u001b[38;5;28mself\u001b[39m\u001b[38;5;241m.\u001b[39msubs,\n\u001b[1;32m    751\u001b[0m             custom_functions\u001b[38;5;241m=\u001b[39m\u001b[38;5;28mself\u001b[39m\u001b[38;5;241m.\u001b[39mcustom_functions,\n\u001b[1;32m    752\u001b[0m             boundary_conditions\u001b[38;5;241m=\u001b[39m\u001b[38;5;28mself\u001b[39m\u001b[38;5;241m.\u001b[39mboundary_conditions,\n\u001b[1;32m    753\u001b[0m         )\n\u001b[1;32m    754\u001b[0m         \u001b[38;5;28;01mfor\u001b[39;00m eq \u001b[38;5;129;01min\u001b[39;00m \u001b[38;5;28mself\u001b[39m\u001b[38;5;241m.\u001b[39mevolution_equations\u001b[38;5;241m.\u001b[39mcopy()\n\u001b[1;32m    755\u001b[0m     ]\n\u001b[1;32m    756\u001b[0m     \u001b[38;5;28mself\u001b[39m\u001b[38;5;241m.\u001b[39m_apply_dirichlet()\n\u001b[1;32m    757\u001b[0m     \u001b[38;5;28mself\u001b[39m\u001b[38;5;241m.\u001b[39mcoordinates \u001b[38;5;241m=\u001b[39m \u001b[38;5;28msorted\u001b[39m(\n\u001b[1;32m    758\u001b[0m         \u001b[38;5;28mset\u001b[39m(chain(\u001b[38;5;241m*\u001b[39m[eq\u001b[38;5;241m.\u001b[39mcoordinates \u001b[38;5;28;01mfor\u001b[39;00m eq \u001b[38;5;129;01min\u001b[39;00m \u001b[38;5;28mself\u001b[39m\u001b[38;5;241m.\u001b[39mevolution_equations\u001b[38;5;241m.\u001b[39mcopy()]))\n\u001b[1;32m    759\u001b[0m     )\n",
      "File \u001b[0;32m~/.local/lib/python3.8/site-packages/skfdiff/core/system.py:746\u001b[0m, in \u001b[0;36m<listcomp>\u001b[0;34m(.0)\u001b[0m\n\u001b[1;32m    744\u001b[0m \u001b[38;5;28;01mdef\u001b[39;00m \u001b[38;5;21m_coerce_equations\u001b[39m(\u001b[38;5;28mself\u001b[39m):\n\u001b[1;32m    745\u001b[0m     \u001b[38;5;28mself\u001b[39m\u001b[38;5;241m.\u001b[39mevolution_equations \u001b[38;5;241m=\u001b[39m [\n\u001b[0;32m--> 746\u001b[0m         \u001b[43mPDEquation\u001b[49m\u001b[43m(\u001b[49m\n\u001b[1;32m    747\u001b[0m \u001b[43m            \u001b[49m\u001b[43meq\u001b[49m\u001b[43m,\u001b[49m\n\u001b[1;32m    748\u001b[0m \u001b[43m            \u001b[49m\u001b[38;5;28;43mself\u001b[39;49m\u001b[38;5;241;43m.\u001b[39;49m\u001b[43munknowns\u001b[49m\u001b[43m,\u001b[49m\n\u001b[1;32m    749\u001b[0m \u001b[43m            \u001b[49m\u001b[38;5;28;43mself\u001b[39;49m\u001b[38;5;241;43m.\u001b[39;49m\u001b[43mparameters\u001b[49m\u001b[43m,\u001b[49m\n\u001b[1;32m    750\u001b[0m \u001b[43m            \u001b[49m\u001b[43msubs\u001b[49m\u001b[38;5;241;43m=\u001b[39;49m\u001b[38;5;28;43mself\u001b[39;49m\u001b[38;5;241;43m.\u001b[39;49m\u001b[43msubs\u001b[49m\u001b[43m,\u001b[49m\n\u001b[1;32m    751\u001b[0m \u001b[43m            \u001b[49m\u001b[43mcustom_functions\u001b[49m\u001b[38;5;241;43m=\u001b[39;49m\u001b[38;5;28;43mself\u001b[39;49m\u001b[38;5;241;43m.\u001b[39;49m\u001b[43mcustom_functions\u001b[49m\u001b[43m,\u001b[49m\n\u001b[1;32m    752\u001b[0m \u001b[43m            \u001b[49m\u001b[43mboundary_conditions\u001b[49m\u001b[38;5;241;43m=\u001b[39;49m\u001b[38;5;28;43mself\u001b[39;49m\u001b[38;5;241;43m.\u001b[39;49m\u001b[43mboundary_conditions\u001b[49m\u001b[43m,\u001b[49m\n\u001b[1;32m    753\u001b[0m \u001b[43m        \u001b[49m\u001b[43m)\u001b[49m\n\u001b[1;32m    754\u001b[0m         \u001b[38;5;28;01mfor\u001b[39;00m eq \u001b[38;5;129;01min\u001b[39;00m \u001b[38;5;28mself\u001b[39m\u001b[38;5;241m.\u001b[39mevolution_equations\u001b[38;5;241m.\u001b[39mcopy()\n\u001b[1;32m    755\u001b[0m     ]\n\u001b[1;32m    756\u001b[0m     \u001b[38;5;28mself\u001b[39m\u001b[38;5;241m.\u001b[39m_apply_dirichlet()\n\u001b[1;32m    757\u001b[0m     \u001b[38;5;28mself\u001b[39m\u001b[38;5;241m.\u001b[39mcoordinates \u001b[38;5;241m=\u001b[39m \u001b[38;5;28msorted\u001b[39m(\n\u001b[1;32m    758\u001b[0m         \u001b[38;5;28mset\u001b[39m(chain(\u001b[38;5;241m*\u001b[39m[eq\u001b[38;5;241m.\u001b[39mcoordinates \u001b[38;5;28;01mfor\u001b[39;00m eq \u001b[38;5;129;01min\u001b[39;00m \u001b[38;5;28mself\u001b[39m\u001b[38;5;241m.\u001b[39mevolution_equations\u001b[38;5;241m.\u001b[39mcopy()]))\n\u001b[1;32m    759\u001b[0m     )\n",
      "File \u001b[0;32m<attrs generated init skfdiff.core.system.PDEquation>:23\u001b[0m, in \u001b[0;36m__init__\u001b[0;34m(self, equation, unknowns, parameters, subs, custom_functions, boundary_conditions, schemes, raw, dirichlet_nodes)\u001b[0m\n\u001b[1;32m     21\u001b[0m \u001b[38;5;28;01melse\u001b[39;00m:\n\u001b[1;32m     22\u001b[0m     \u001b[38;5;28mself\u001b[39m\u001b[38;5;241m.\u001b[39mdirichlet_nodes \u001b[38;5;241m=\u001b[39m __attr_factory_dirichlet_nodes()\n\u001b[0;32m---> 23\u001b[0m \u001b[38;5;28;43mself\u001b[39;49m\u001b[38;5;241;43m.\u001b[39;49m\u001b[43m__attrs_post_init__\u001b[49m\u001b[43m(\u001b[49m\u001b[43m)\u001b[49m\n",
      "File \u001b[0;32m~/.local/lib/python3.8/site-packages/skfdiff/core/system.py:247\u001b[0m, in \u001b[0;36mPDEquation.__attrs_post_init__\u001b[0;34m(self)\u001b[0m\n\u001b[1;32m    245\u001b[0m \u001b[38;5;28mself\u001b[39m\u001b[38;5;241m.\u001b[39m_sympify_equation()\n\u001b[1;32m    246\u001b[0m \u001b[38;5;28mself\u001b[39m\u001b[38;5;241m.\u001b[39msymbolic_equation \u001b[38;5;241m=\u001b[39m \u001b[38;5;28mself\u001b[39m\u001b[38;5;241m.\u001b[39msymbolic_equation\u001b[38;5;241m.\u001b[39msubs(sympified_subs)\n\u001b[0;32m--> 247\u001b[0m \u001b[38;5;28;43mself\u001b[39;49m\u001b[38;5;241;43m.\u001b[39;49m\u001b[43m_check_symbolic_equation\u001b[49m\u001b[43m(\u001b[49m\u001b[38;5;28;43mself\u001b[39;49m\u001b[38;5;241;43m.\u001b[39;49m\u001b[43msymbolic_equation\u001b[49m\u001b[43m)\u001b[49m\n\u001b[1;32m    248\u001b[0m logger\u001b[38;5;241m.\u001b[39minfo(\u001b[38;5;124m\"\u001b[39m\u001b[38;5;124mtranslate to discrete equation\u001b[39m\u001b[38;5;124m\"\u001b[39m)\n\u001b[1;32m    249\u001b[0m \u001b[38;5;28mself\u001b[39m\u001b[38;5;241m.\u001b[39m_as_finite_diff()\n",
      "File \u001b[0;32m~/.local/lib/python3.8/site-packages/skfdiff/core/system.py:269\u001b[0m, in \u001b[0;36mPDEquation._check_symbolic_equation\u001b[0;34m(self, symbolic_equation)\u001b[0m\n\u001b[1;32m    267\u001b[0m orphans \u001b[38;5;241m=\u001b[39m {\u001b[38;5;241m*\u001b[39morphaned_symbols, \u001b[38;5;241m*\u001b[39morphaned_functions}\n\u001b[1;32m    268\u001b[0m \u001b[38;5;28;01mif\u001b[39;00m orphans:\n\u001b[0;32m--> 269\u001b[0m     \u001b[38;5;28;01mraise\u001b[39;00m \u001b[38;5;167;01mValueError\u001b[39;00m(\n\u001b[1;32m    270\u001b[0m         \u001b[38;5;124mf\u001b[39m\u001b[38;5;124m\"\u001b[39m\u001b[38;5;124mOne or more symbols (\u001b[39m\u001b[38;5;132;01m{\u001b[39;00m\u001b[38;5;124m'\u001b[39m\u001b[38;5;124m, \u001b[39m\u001b[38;5;124m'\u001b[39m\u001b[38;5;241m.\u001b[39mjoin(orphans)\u001b[38;5;132;01m}\u001b[39;00m\u001b[38;5;124m) are missing. \u001b[39m\u001b[38;5;124m\"\u001b[39m\n\u001b[1;32m    271\u001b[0m         \u001b[38;5;124m\"\u001b[39m\u001b[38;5;124mYou may have forgotten to include them into the unknowns, \u001b[39m\u001b[38;5;124m\"\u001b[39m\n\u001b[1;32m    272\u001b[0m         \u001b[38;5;124m\"\u001b[39m\u001b[38;5;124mparameters or substitution.\u001b[39m\u001b[38;5;124m\"\u001b[39m\n\u001b[1;32m    273\u001b[0m     )\n",
      "\u001b[0;31mValueError\u001b[0m: One or more symbols (m) are missing. You may have forgotten to include them into the unknowns, parameters or substitution."
     ]
    }
   ],
   "source": [
    "from skfdiff import Model, Simulation\n",
    "import pylab as pl\n",
    "import numpy as np\n",
    "from scipy.signal.windows import gaussian\n",
    "from scipy import integrate\n",
    "model = Model([\"difm*(dxxM + dyyM) + mum*M*(barm - M) - cm*M - chi*(dxO * dx(M/(barm + M)) + dyO * dy(M/(barm + M)) + dxxO * M/(barm+M))\",\n",
    "               \"rm*(M*M/(barm + M))*(baro - O)\"],\n",
    "               [\"M(x, y)\", \"O(x, y)\"],\n",
    "               parameters=[\"difm\", \"mum\", \"cm\", \"chi\", \"barm\", \"baro\", \"rm\"],\n",
    "               boundary_conditions=\"noflux\")\n",
    "tmax = 28\n",
    "dt =0.1\n",
    "hx = 0.5\n",
    "L = 20\n",
    "xSize = int(L/hx)\n",
    "x = y = np.linspace(-L / 2, L / 2, xSize)\n",
    "xx, yy = np.meshgrid(x, y, indexing=\"ij\")\n",
    "\n",
    "M = np.zeros((int(L/hx), int(L/hx)))\n",
    "M = initialConditionMicroglia(L, hx, xSize, M)\n",
    "O = np.zeros_like(M)\n",
    "\n",
    "\n",
    "\n",
    "initial_fields = model.Fields(x=x, y=y, M=M, O=O,\n",
    "                              difm = difm, cm = cm, chi = chi, mum = mum, barm = barm, baro = baro, rm = rm)\n",
    "\n",
    "simulation = Simulation(model, initial_fields, dt=dt, tmax=tmax, scheme = \"Theta\", theta = 0, time_stepping=False)\n",
    "container = simulation.attach_container()\n",
    "tmax, final_fields = simulation.run()"
   ]
  },
  {
   "cell_type": "code",
   "execution_count": null,
   "id": "9ef38913",
   "metadata": {},
   "outputs": [],
   "source": [
    "container.data.O[-1].values.tolist()"
   ]
  },
  {
   "cell_type": "code",
   "execution_count": null,
   "id": "59e9229f",
   "metadata": {},
   "outputs": [],
   "source": [
    "for time in container.data.M.values.tolist(): \n",
    "    for el in time:\n",
    "        if max(el) > 350:\n",
    "            print(max(el))"
   ]
  },
  {
   "cell_type": "code",
   "execution_count": null,
   "id": "10e35942",
   "metadata": {},
   "outputs": [],
   "source": [
    "for time in container.data.O.values.tolist(): \n",
    "    for el in time:\n",
    "        if max(el) > 400:\n",
    "            print(max(el))"
   ]
  },
  {
   "cell_type": "code",
   "execution_count": null,
   "id": "03c8b4f4",
   "metadata": {},
   "outputs": [],
   "source": [
    "import holoviews as hv\n",
    "hv.notebook_extension(\"bokeh\")\n",
    "hv.Dataset(container.data.O).to(hv.Image, [\"x\", \"y\"])"
   ]
  },
  {
   "cell_type": "code",
   "execution_count": null,
   "id": "c0b93099",
   "metadata": {},
   "outputs": [],
   "source": [
    "import holoviews as hv\n",
    "hv.notebook_extension(\"bokeh\")\n",
    "hv.Dataset(container.data.M).to(hv.Image, [\"x\", \"y\"])"
   ]
  }
 ],
 "metadata": {
  "kernelspec": {
   "display_name": "Python 3 (ipykernel)",
   "language": "python",
   "name": "python3"
  },
  "language_info": {
   "codemirror_mode": {
    "name": "ipython",
    "version": 3
   },
   "file_extension": ".py",
   "mimetype": "text/x-python",
   "name": "python",
   "nbconvert_exporter": "python",
   "pygments_lexer": "ipython3",
   "version": "3.8.10"
  }
 },
 "nbformat": 4,
 "nbformat_minor": 5
}
