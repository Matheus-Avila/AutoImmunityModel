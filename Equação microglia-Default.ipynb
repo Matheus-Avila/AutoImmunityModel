{
 "cells": [
  {
   "cell_type": "code",
   "execution_count": 14,
   "id": "7047333b",
   "metadata": {},
   "outputs": [],
   "source": [
    "#Parameters\n",
    "difm = 0.015206\n",
    "mum = 60*24*3*10**-6\n",
    "cm = 0.1\n",
    "chi = 0.3\n",
    "barm = 350.0\n",
    "baro = 400.0\n",
    "rm = 60*24*6*10**-7"
   ]
  },
  {
   "cell_type": "code",
   "execution_count": 15,
   "id": "119ed2b2",
   "metadata": {},
   "outputs": [],
   "source": [
    "def initialConditionMicroglia(L, hx, xSize, microglia):\n",
    "    for k in range(xSize * xSize):\n",
    "        i = int(k/xSize)\n",
    "        j = k%xSize\n",
    "        if (i - int(xSize/2))**2 + (j - int(xSize/2))**2 < 5 / (hx**2):\n",
    "            microglia[i][j] = barm/3    \n",
    "    return microglia"
   ]
  },
  {
   "cell_type": "code",
   "execution_count": 16,
   "id": "e9996eb1",
   "metadata": {},
   "outputs": [
    {
     "name": "stderr",
     "output_type": "stream",
     "text": [
      "96b005 running: t: 1.7166:   6%|▎     | 8583/139999.0 [06:22<1:35:18, 22.98it/s]"
     ]
    }
   ],
   "source": [
    "from skfdiff import Model, Simulation\n",
    "import pylab as pl\n",
    "import numpy as np\n",
    "from scipy.signal.windows import gaussian\n",
    "from scipy import integrate\n",
    "model = Model([\"difm*(dxxM + dyyM) + mum*M*(barm - M) - cm*M - chi*(upwind(dxO, M/(barm + M), x, 1) + upwind(dyO, M/(barm + M), y, 1))\",\n",
    "               \"rm*(M*M/(barm + M))*(baro - O)\"],\n",
    "               [\"M(x, y)\", \"O(x, y)\"],\n",
    "               parameters=[\"difm\", \"mum\", \"cm\", \"chi\", \"barm\", \"baro\", \"rm\"],\n",
    "               boundary_conditions=\"noflux\")\n",
    "tmax = 28\n",
    "dt =.0002\n",
    "hx = 0.5\n",
    "L = 20\n",
    "xSize = int(L/hx)\n",
    "x = y = np.linspace(-L / 2, L / 2, xSize)\n",
    "xx, yy = np.meshgrid(x, y, indexing=\"ij\")\n",
    "\n",
    "M = np.zeros((int(L/hx), int(L/hx)))\n",
    "M = initialConditionMicroglia(L, hx, xSize, M)\n",
    "O = np.zeros_like(M)\n",
    "\n",
    "\n",
    "\n",
    "initial_fields = model.Fields(x=x, y=y, M=M, O=O,\n",
    "                              difm = difm, cm = cm, chi = chi, mum = mum, barm = barm, baro = baro, rm = rm)\n",
    "\n",
    "simulation = Simulation(model, initial_fields, dt=dt, tmax=tmax, time_stepping=False)\n",
    "container = simulation.attach_container()\n",
    "tmax, final_fields = simulation.run()"
   ]
  },
  {
   "cell_type": "code",
   "execution_count": null,
   "id": "c73e1e6a",
   "metadata": {},
   "outputs": [],
   "source": [
    "container.data.O[-1].values.tolist()"
   ]
  },
  {
   "cell_type": "code",
   "execution_count": null,
   "id": "03c8b4f4",
   "metadata": {},
   "outputs": [],
   "source": [
    "import holoviews as hv\n",
    "hv.notebook_extension(\"bokeh\")\n",
    "hv.Dataset(container.data.O).to(hv.Image, [\"x\", \"y\"])"
   ]
  }
 ],
 "metadata": {
  "kernelspec": {
   "display_name": "Python 3 (ipykernel)",
   "language": "python",
   "name": "python3"
  },
  "language_info": {
   "codemirror_mode": {
    "name": "ipython",
    "version": 3
   },
   "file_extension": ".py",
   "mimetype": "text/x-python",
   "name": "python",
   "nbconvert_exporter": "python",
   "pygments_lexer": "ipython3",
   "version": "3.8.10"
  }
 },
 "nbformat": 4,
 "nbformat_minor": 5
}
